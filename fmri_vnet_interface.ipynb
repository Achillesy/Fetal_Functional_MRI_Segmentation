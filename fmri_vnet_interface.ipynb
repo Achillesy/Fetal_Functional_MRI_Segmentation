{
  "nbformat": 4,
  "nbformat_minor": 0,
  "metadata": {
    "colab": {
      "provenance": [],
      "authorship_tag": "ABX9TyPKPmBIj0+rY7bV0W2iVmAd",
      "include_colab_link": true
    },
    "kernelspec": {
      "name": "python3",
      "display_name": "Python 3"
    },
    "language_info": {
      "name": "python"
    }
  },
  "cells": [
    {
      "cell_type": "markdown",
      "metadata": {
        "id": "view-in-github",
        "colab_type": "text"
      },
      "source": [
        "<a href=\"https://colab.research.google.com/github/Achillesy/Fetal_Functional_MRI_Segmentation/blob/master/fmri_vnet_interface.ipynb\" target=\"_parent\"><img src=\"https://colab.research.google.com/assets/colab-badge.svg\" alt=\"Open In Colab\"/></a>"
      ]
    },
    {
      "cell_type": "code",
      "execution_count": 7,
      "metadata": {
        "id": "LjRKdAHc-bTf",
        "outputId": "76e165df-85ac-4943-8d64-de42a8c9f46e",
        "colab": {
          "base_uri": "https://localhost:8080/"
        }
      },
      "outputs": [
        {
          "output_type": "stream",
          "name": "stdout",
          "text": [
            "E: Command line option --qq is not understood in combination with the other options\n",
            "fatal: destination path 'Fetal_Functional_MRI_Segmentation' already exists and is not an empty directory.\n"
          ]
        }
      ],
      "source": [
        "!apt-get install --qq -y git\n",
        "!git clone https://github.com/Achillesy/Fetal_Functional_MRI_Segmentation.git"
      ]
    },
    {
      "cell_type": "code",
      "source": [
        "!cat Fetal_Functional_MRI_Segmentation/models/fold4_train_metric_vnet_part_* > fold4_train_metric_vnet.pth\n",
        "!md5sum fold4_train_metric_vnet.pth"
      ],
      "metadata": {
        "id": "EnC4Qu8m_KLA",
        "outputId": "5f37f600-446c-4999-82f9-64042c084f51",
        "colab": {
          "base_uri": "https://localhost:8080/"
        }
      },
      "execution_count": null,
      "outputs": [
        {
          "output_type": "stream",
          "name": "stdout",
          "text": [
            "a84b7773d9e6f46b490e4dc4e888dc64  fold4_train_metric_vnet.pth\n"
          ]
        }
      ]
    },
    {
      "cell_type": "code",
      "source": [
        "!ls -al Fetal_Functional_MRI_Segmentation/models/fold4_train_metric_vnet_part_ai\n"
      ],
      "metadata": {
        "colab": {
          "base_uri": "https://localhost:8080/"
        },
        "id": "hvYoA-BrGwp_",
        "outputId": "c6ad717d-b57a-4b27-dcd9-cb18d6991bbc"
      },
      "execution_count": 9,
      "outputs": [
        {
          "output_type": "stream",
          "name": "stdout",
          "text": [
            "-rw-r--r-- 1 root root 1219221 May 25 12:57 Fetal_Functional_MRI_Segmentation/models/fold4_train_metric_vnet_part_ai\n"
          ]
        }
      ]
    }
  ]
}