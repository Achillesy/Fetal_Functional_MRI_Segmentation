{
  "nbformat": 4,
  "nbformat_minor": 0,
  "metadata": {
    "colab": {
      "provenance": [],
      "gpuType": "T4",
      "authorship_tag": "ABX9TyNOQ6hcKXJiwMOM3NMXwf5j",
      "include_colab_link": true
    },
    "kernelspec": {
      "name": "python3",
      "display_name": "Python 3"
    },
    "language_info": {
      "name": "python"
    },
    "gpuClass": "standard",
    "accelerator": "GPU",
    "widgets": {
      "application/vnd.jupyter.widget-state+json": {
        "34d4dbced35b48bdb86c0425c501d916": {
          "model_module": "@jupyter-widgets/controls",
          "model_name": "FileUploadModel",
          "model_module_version": "1.5.0",
          "state": {
            "_counter": 1,
            "_dom_classes": [],
            "_model_module": "@jupyter-widgets/controls",
            "_model_module_version": "1.5.0",
            "_model_name": "FileUploadModel",
            "_view_count": null,
            "_view_module": "@jupyter-widgets/controls",
            "_view_module_version": "1.5.0",
            "_view_name": "FileUploadView",
            "accept": "",
            "button_style": "",
            "data": [
              null
            ],
            "description": "Upload",
            "description_tooltip": null,
            "disabled": false,
            "error": "",
            "icon": "upload",
            "layout": "IPY_MODEL_cc8ceb84b57c4aa29dd5f890e04ad280",
            "metadata": [
              {
                "name": "sub-2013_ses-T1_task-rest_bold.nii.gz",
                "type": "application/x-gzip",
                "size": 1338711,
                "lastModified": 1679684198477
              }
            ],
            "multiple": false,
            "style": "IPY_MODEL_3c6d26242e38469c908334618d97f994"
          }
        },
        "cc8ceb84b57c4aa29dd5f890e04ad280": {
          "model_module": "@jupyter-widgets/base",
          "model_name": "LayoutModel",
          "model_module_version": "1.2.0",
          "state": {
            "_model_module": "@jupyter-widgets/base",
            "_model_module_version": "1.2.0",
            "_model_name": "LayoutModel",
            "_view_count": null,
            "_view_module": "@jupyter-widgets/base",
            "_view_module_version": "1.2.0",
            "_view_name": "LayoutView",
            "align_content": null,
            "align_items": null,
            "align_self": null,
            "border": null,
            "bottom": null,
            "display": null,
            "flex": null,
            "flex_flow": null,
            "grid_area": null,
            "grid_auto_columns": null,
            "grid_auto_flow": null,
            "grid_auto_rows": null,
            "grid_column": null,
            "grid_gap": null,
            "grid_row": null,
            "grid_template_areas": null,
            "grid_template_columns": null,
            "grid_template_rows": null,
            "height": null,
            "justify_content": null,
            "justify_items": null,
            "left": null,
            "margin": null,
            "max_height": null,
            "max_width": null,
            "min_height": null,
            "min_width": null,
            "object_fit": null,
            "object_position": null,
            "order": null,
            "overflow": null,
            "overflow_x": null,
            "overflow_y": null,
            "padding": null,
            "right": null,
            "top": null,
            "visibility": null,
            "width": null
          }
        },
        "3c6d26242e38469c908334618d97f994": {
          "model_module": "@jupyter-widgets/controls",
          "model_name": "ButtonStyleModel",
          "model_module_version": "1.5.0",
          "state": {
            "_model_module": "@jupyter-widgets/controls",
            "_model_module_version": "1.5.0",
            "_model_name": "ButtonStyleModel",
            "_view_count": null,
            "_view_module": "@jupyter-widgets/base",
            "_view_module_version": "1.2.0",
            "_view_name": "StyleView",
            "button_color": null,
            "font_weight": ""
          }
        }
      }
    }
  },
  "cells": [
    {
      "cell_type": "markdown",
      "metadata": {
        "id": "view-in-github",
        "colab_type": "text"
      },
      "source": [
        "<a href=\"https://colab.research.google.com/github/Achillesy/Fetal_Functional_MRI_Segmentation/blob/master/fmri_vnet_interface.ipynb\" target=\"_parent\"><img src=\"https://colab.research.google.com/assets/colab-badge.svg\" alt=\"Open In Colab\"/></a>"
      ]
    },
    {
      "cell_type": "markdown",
      "source": [
        "# Automated Brain Masking of Fetal Functional MRI with Open Data"
      ],
      "metadata": {
        "id": "j09lPZQqdzIL"
      }
    },
    {
      "cell_type": "markdown",
      "source": [
        "![MONAI](https://miro.medium.com/v2/resize:fit:4800/format:webp/1*2bl-7kOoc3sONYgm5InOUQ.png)"
      ],
      "metadata": {
        "id": "R1MCYBzOeh8J"
      }
    },
    {
      "cell_type": "markdown",
      "source": [
        "## Please upload your Fetal Functional MRI files"
      ],
      "metadata": {
        "id": "XKlCTgZQgaRV"
      }
    },
    {
      "cell_type": "code",
      "source": [
        "import tempfile\n",
        "import io\n",
        "import ipywidgets as widgets\n",
        "\n",
        "def upload_and_continue():\n",
        "    upload_button = widgets.FileUpload()\n",
        "    display(upload_button)\n",
        "\n",
        "    def handle_upload_button(sender):\n",
        "        for filename, content in upload_button.value.items():\n",
        "            with tempfile.NamedTemporaryFile(delete=False, prefix=filename) as temp_file:\n",
        "                temp_file.write(content['content'])\n",
        "                temp_file_path = temp_file.name\n",
        "                print(\"fMRI file:\", temp_file_path)\n",
        "\n",
        "    upload_button.observe(handle_upload_button, names='value')\n",
        "\n",
        "upload_and_continue()\n"
      ],
      "metadata": {
        "colab": {
          "base_uri": "https://localhost:8080/",
          "height": 66,
          "referenced_widgets": [
            "34d4dbced35b48bdb86c0425c501d916",
            "cc8ceb84b57c4aa29dd5f890e04ad280",
            "3c6d26242e38469c908334618d97f994"
          ]
        },
        "id": "aOgIhVX1TmyT",
        "outputId": "f4ac57eb-3f94-4c2d-8a09-d4dad4186115"
      },
      "execution_count": 1,
      "outputs": [
        {
          "output_type": "display_data",
          "data": {
            "text/plain": [
              "FileUpload(value={}, description='Upload')"
            ],
            "application/vnd.jupyter.widget-view+json": {
              "version_major": 2,
              "version_minor": 0,
              "model_id": "34d4dbced35b48bdb86c0425c501d916"
            }
          },
          "metadata": {}
        },
        {
          "output_type": "stream",
          "name": "stdout",
          "text": [
            "fMRI file: /tmp/sub-2013_ses-T1_task-rest_bold.nii.gz5zdt6u0a\n"
          ]
        }
      ]
    },
    {
      "cell_type": "markdown",
      "source": [
        "By pressing the **Enter** key in the input box below, the fMRI mask will be automatically generated and downloaded in a short time. "
      ],
      "metadata": {
        "id": "UvP-_njsdt04"
      }
    },
    {
      "cell_type": "code",
      "source": [
        "input()\n"
      ],
      "metadata": {
        "id": "j7YfZn2DdMhl",
        "outputId": "c4a532ed-5456-443a-a130-8f817ae3876c",
        "colab": {
          "base_uri": "https://localhost:8080/",
          "height": 53
        }
      },
      "execution_count": 2,
      "outputs": [
        {
          "name": "stdout",
          "output_type": "stream",
          "text": [
            "\n"
          ]
        },
        {
          "output_type": "execute_result",
          "data": {
            "text/plain": [
              "''"
            ],
            "application/vnd.google.colaboratory.intrinsic+json": {
              "type": "string"
            }
          },
          "metadata": {},
          "execution_count": 2
        }
      ]
    },
    {
      "cell_type": "code",
      "source": [
        "!rm /tmp/*.*"
      ],
      "metadata": {
        "id": "e3JGKm0YlFI7",
        "outputId": "446903f4-cdb8-424b-c31f-e114825f3584",
        "colab": {
          "base_uri": "https://localhost:8080/"
        }
      },
      "execution_count": 3,
      "outputs": [
        {
          "output_type": "stream",
          "name": "stdout",
          "text": [
            "rm: cannot remove '/tmp/initgoogle_syslog_dir.0': Is a directory\n"
          ]
        }
      ]
    },
    {
      "cell_type": "code",
      "execution_count": 16,
      "metadata": {
        "id": "LjRKdAHc-bTf",
        "outputId": "004cea3c-8826-418a-fe0e-f116ae9bb635",
        "colab": {
          "base_uri": "https://localhost:8080/"
        }
      },
      "outputs": [
        {
          "output_type": "stream",
          "name": "stdout",
          "text": [
            "fatal: destination path 'Fetal_Functional_MRI_Segmentation' already exists and is not an empty directory.\n"
          ]
        }
      ],
      "source": [
        "!apt-get install -qq -y git\n",
        "!git clone https://github.com/Achillesy/Fetal_Functional_MRI_Segmentation.git\n"
      ]
    },
    {
      "cell_type": "code",
      "source": [
        "import subprocess\n",
        "\n",
        "!cat Fetal_Functional_MRI_Segmentation/models/fold4_train_metric_vnet_part_* > fold4_train_metric_vnet.pth\n",
        "file_pth = \"fold4_train_metric_vnet.pth\"\n",
        "output = subprocess.check_output([\"md5sum\", file_pth])\n",
        "md5 = output.split()[0].decode()\n",
        "expected_md5 = \"cd8284f0e56f21a422b277f3be79ae10\"\n",
        "assert md5 == expected_md5, \"MD5 value does not match\"\n"
      ],
      "metadata": {
        "id": "EnC4Qu8m_KLA"
      },
      "execution_count": 5,
      "outputs": []
    },
    {
      "cell_type": "code",
      "source": [
        "!pip install monai\n",
        "\n",
        "from monai.config import print_config\n",
        "print_config()\n"
      ],
      "metadata": {
        "id": "DD8b1scpLgIA",
        "outputId": "f5b32725-c9c5-48ef-e246-9c807e842fd7",
        "colab": {
          "base_uri": "https://localhost:8080/"
        }
      },
      "execution_count": 6,
      "outputs": [
        {
          "output_type": "stream",
          "name": "stdout",
          "text": [
            "Looking in indexes: https://pypi.org/simple, https://us-python.pkg.dev/colab-wheels/public/simple/\n",
            "Requirement already satisfied: monai in /usr/local/lib/python3.10/dist-packages (1.1.0)\n",
            "Requirement already satisfied: torch>=1.8 in /usr/local/lib/python3.10/dist-packages (from monai) (2.0.1+cu118)\n",
            "Requirement already satisfied: numpy>=1.17 in /usr/local/lib/python3.10/dist-packages (from monai) (1.22.4)\n",
            "Requirement already satisfied: filelock in /usr/local/lib/python3.10/dist-packages (from torch>=1.8->monai) (3.12.0)\n",
            "Requirement already satisfied: typing-extensions in /usr/local/lib/python3.10/dist-packages (from torch>=1.8->monai) (4.5.0)\n",
            "Requirement already satisfied: sympy in /usr/local/lib/python3.10/dist-packages (from torch>=1.8->monai) (1.11.1)\n",
            "Requirement already satisfied: networkx in /usr/local/lib/python3.10/dist-packages (from torch>=1.8->monai) (3.1)\n",
            "Requirement already satisfied: jinja2 in /usr/local/lib/python3.10/dist-packages (from torch>=1.8->monai) (3.1.2)\n",
            "Requirement already satisfied: triton==2.0.0 in /usr/local/lib/python3.10/dist-packages (from torch>=1.8->monai) (2.0.0)\n",
            "Requirement already satisfied: cmake in /usr/local/lib/python3.10/dist-packages (from triton==2.0.0->torch>=1.8->monai) (3.25.2)\n",
            "Requirement already satisfied: lit in /usr/local/lib/python3.10/dist-packages (from triton==2.0.0->torch>=1.8->monai) (16.0.5)\n",
            "Requirement already satisfied: MarkupSafe>=2.0 in /usr/local/lib/python3.10/dist-packages (from jinja2->torch>=1.8->monai) (2.1.2)\n",
            "Requirement already satisfied: mpmath>=0.19 in /usr/local/lib/python3.10/dist-packages (from sympy->torch>=1.8->monai) (1.3.0)\n",
            "MONAI version: 1.1.0\n",
            "Numpy version: 1.22.4\n",
            "Pytorch version: 2.0.1+cu118\n",
            "MONAI flags: HAS_EXT = False, USE_COMPILED = False, USE_META_DICT = False\n",
            "MONAI rev id: a2ec3752f54bfc3b40e7952234fbeb5452ed63e3\n",
            "MONAI __file__: /usr/local/lib/python3.10/dist-packages/monai/__init__.py\n",
            "\n",
            "Optional dependencies:\n",
            "Pytorch Ignite version: NOT INSTALLED or UNKNOWN VERSION.\n",
            "Nibabel version: 3.0.2\n",
            "scikit-image version: 0.19.3\n",
            "Pillow version: 8.4.0\n",
            "Tensorboard version: 2.12.2\n",
            "gdown version: 4.6.6\n",
            "TorchVision version: 0.15.2+cu118\n",
            "tqdm version: 4.65.0\n",
            "lmdb version: NOT INSTALLED or UNKNOWN VERSION.\n",
            "psutil version: 5.9.5\n",
            "pandas version: 1.5.3\n",
            "einops version: NOT INSTALLED or UNKNOWN VERSION.\n",
            "transformers version: NOT INSTALLED or UNKNOWN VERSION.\n",
            "mlflow version: NOT INSTALLED or UNKNOWN VERSION.\n",
            "pynrrd version: NOT INSTALLED or UNKNOWN VERSION.\n",
            "\n",
            "For details about installing the optional dependencies, please visit:\n",
            "    https://docs.monai.io/en/latest/installation.html#installing-the-recommended-dependencies\n",
            "\n"
          ]
        }
      ]
    },
    {
      "cell_type": "code",
      "source": [
        "import os\n",
        "import numpy as np\n",
        "import nibabel as nib\n",
        "from glob import glob\n",
        "\n",
        "import torch\n",
        "from types import SimpleNamespace\n",
        "from google.colab import files\n",
        "\n",
        "cfg = SimpleNamespace(**{})\n",
        "cfg.pixdim = (3.5, 3.5, 3.5)\n",
        "cfg.roi_size = [64, 64, 64]\n",
        "cfg.sw_batch_size = 4\n",
        "\n",
        "cfg.mri_dir = \"mri\"\n",
        "cfg.mask_dir = \"mask\"\n",
        "os.makedirs(cfg.mri_dir, exist_ok=True)\n",
        "os.makedirs(cfg.mask_dir, exist_ok=True)\n",
        "\n",
        "cfg.device = torch.device(\"cuda:0\" if torch.cuda.is_available() else \"cpu\")\n"
      ],
      "metadata": {
        "id": "hvYoA-BrGwp_"
      },
      "execution_count": 7,
      "outputs": []
    },
    {
      "cell_type": "code",
      "source": [
        "from monai.networks.nets import VNet\n",
        "\n",
        "model = VNet(\n",
        "  spatial_dims=3,\n",
        "  in_channels=1,\n",
        "  out_channels=2,\n",
        "  act=(\"elu\", {\"inplace\": True}),\n",
        "  dropout_dim=3,\n",
        "  bias=False,\n",
        ").to(cfg.device)\n",
        "model.load_state_dict(torch.load(file_pth, cfg.device))\n"
      ],
      "metadata": {
        "id": "BTEnbatnLSXr",
        "outputId": "50fb662f-5a9a-437b-d83e-683f291bf400",
        "colab": {
          "base_uri": "https://localhost:8080/"
        }
      },
      "execution_count": 8,
      "outputs": [
        {
          "output_type": "execute_result",
          "data": {
            "text/plain": [
              "<All keys matched successfully>"
            ]
          },
          "metadata": {},
          "execution_count": 8
        }
      ]
    },
    {
      "cell_type": "code",
      "source": [
        "from monai.transforms import (\n",
        "  AsDiscreted,\n",
        "  Compose,\n",
        "  # CropForegroundd,\n",
        "  EnsureChannelFirstd,\n",
        "  Invertd,\n",
        "  # Lambda,\n",
        "  LoadImaged,\n",
        "  NormalizeIntensityd,\n",
        "  Orientationd,\n",
        "  SaveImaged,\n",
        "  Spacingd,\n",
        ")\n",
        "\n",
        "test_transforms = Compose(\n",
        "  [\n",
        "    LoadImaged(keys=[\"image\"]),\n",
        "    EnsureChannelFirstd(keys=[\"image\"]),\n",
        "    Orientationd(keys=[\"image\"], axcodes=\"RAS\"),\n",
        "    Spacingd(keys=[\"image\"], pixdim=cfg.pixdim, mode=\"bilinear\"),\n",
        "    NormalizeIntensityd(keys=\"image\", nonzero=True),\n",
        "  ]\n",
        ")\n",
        "\n",
        "post_transforms = Compose(\n",
        "  [\n",
        "    Invertd(\n",
        "      keys=\"pred\",\n",
        "      transform=test_transforms,\n",
        "      orig_keys=\"image\",\n",
        "      meta_keys=\"pred_meta_dict\",\n",
        "      orig_meta_keys=\"image_meta_dict\",\n",
        "      meta_key_postfix=\"meta_dict\",\n",
        "      nearest_interp=False,\n",
        "      to_tensor=True,\n",
        "    ),\n",
        "    AsDiscreted(keys=\"pred\", argmax=True),\n",
        "    SaveImaged(\n",
        "      keys=\"pred\",\n",
        "      meta_keys=\"pred_meta_dict\",\n",
        "      output_dir=cfg.mask_dir,\n",
        "      output_postfix=\"vnet\",\n",
        "      resample=False,\n",
        "    ),\n",
        "  ]\n",
        ")"
      ],
      "metadata": {
        "id": "I_pwLzSNLOQ2"
      },
      "execution_count": 9,
      "outputs": []
    },
    {
      "cell_type": "code",
      "source": [
        "frmi_files = glob(\"/tmp.*.nii.gz*\")\n",
        "for fmri_data in frmi_files:\n",
        "  fmri_data_name = os.path.basename(fmri_data).replace(\".nii.gz*\", \"\")\n",
        "  image = nib.load(fmri_data)\n",
        "  data = image.get_fdata()\n",
        "  if len(data.shape) != 4:\n",
        "    raise ValueError(\"Invalid shape of fMRI file format. Expected 4D shape: [x, y, z, t]\")\n",
        "  channel_list = np.split(data, data.shape[-1], axis=-1)\n",
        "  for i, channel in enumerate(channel_list):\n",
        "    channel_image = nib.Nifti1Image(channel, image.affine)\n",
        "    channel_file_name = os.path.join(cfg.mri_dir, f\"{fmri_data_name}_{i+1}.nii.gz\")\n",
        "    nib.save(channel_image, channel_file_name)\n"
      ],
      "metadata": {
        "id": "2z_9HOboPQky"
      },
      "execution_count": 17,
      "outputs": []
    },
    {
      "cell_type": "code",
      "source": [
        "test_files = []\n",
        "rmi_files = glob(os.path.join(cfg.mri_dir, \"*.nii.gz\"))\n",
        "for f_file in rmi_files:\n",
        "  test_files.append({\"image\": f_file})\n",
        "print(test_files)\n"
      ],
      "metadata": {
        "colab": {
          "base_uri": "https://localhost:8080/"
        },
        "id": "UwGKtCioPYwx",
        "outputId": "edfb0a79-6db0-4f93-e4de-ecfac8796e53"
      },
      "execution_count": 18,
      "outputs": [
        {
          "output_type": "stream",
          "name": "stdout",
          "text": [
            "[]\n"
          ]
        }
      ]
    },
    {
      "cell_type": "code",
      "source": [
        "from monai.inferers import sliding_window_inference\n",
        "from monai.data import DataLoader, Dataset, decollate_batch\n",
        "\n",
        "test_ds = Dataset(data=test_files, transform=test_transforms)\n",
        "test_loader = DataLoader(test_ds, batch_size=1)\n"
      ],
      "metadata": {
        "id": "rxSmofwbPaoi"
      },
      "execution_count": 12,
      "outputs": []
    },
    {
      "cell_type": "code",
      "source": [
        "with torch.no_grad():\n",
        "  for test_data in test_loader:\n",
        "    test_inputs = test_data[\"image\"].to(cfg.device)\n",
        "    test_data[\"pred\"] = sliding_window_inference(\n",
        "      test_inputs, cfg.roi_size, cfg.sw_batch_size, model\n",
        "    )\n",
        "    test_data = [post_transforms(i) for i in decollate_batch(test_data)]"
      ],
      "metadata": {
        "id": "mMwtJ79tPc8K"
      },
      "execution_count": 13,
      "outputs": []
    },
    {
      "cell_type": "code",
      "source": [
        "for fmri_data in frmi_files:\n",
        "  image = nib.load(fmri_data)\n",
        "  data = image.get_fdata()\n",
        "\n",
        "  fmri_data_name = os.path.basename(fmri_data).replace(\".nii.gz\", \"\")\n",
        "  mask_data = np.zeros_like(data)\n",
        "  for i in range(data.shape[-1]):\n",
        "    i_mask_file = os.path.join(cfg.mask_dir,  f\"{fmri_data_name}_{i+1}\", f\"{fmri_data_name}_{i+1}_vnet.nii.gz\")\n",
        "    i_mask_data = nib.load(i_mask_file).get_fdata()\n",
        "    mask_data[:,:,:,i] = i_mask_data\n",
        "  fmri_mask = nib.Nifti1Image(mask_data, affine=image.affine, header=image.header)\n",
        "  mask_data_name = f\"{fmri_data_name}_vnet.nii.gz\"\n",
        "  fmri_mask.to_filename(mask_data_name)\n",
        "  files.download(mask_data_name)"
      ],
      "metadata": {
        "id": "0TCtG03GPhVh"
      },
      "execution_count": 14,
      "outputs": []
    },
    {
      "cell_type": "code",
      "source": [
        "!rm -rf {cfg.mri_dir}\n",
        "!rm -rf {cfg.mask_dir}\n"
      ],
      "metadata": {
        "id": "HfzH1p9gPiZY"
      },
      "execution_count": 15,
      "outputs": []
    }
  ]
}