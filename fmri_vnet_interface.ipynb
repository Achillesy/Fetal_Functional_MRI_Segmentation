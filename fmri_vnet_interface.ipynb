{
  "nbformat": 4,
  "nbformat_minor": 0,
  "metadata": {
    "colab": {
      "provenance": [],
      "authorship_tag": "ABX9TyMW9R+Arae9nIC+bj+NygP/",
      "include_colab_link": true
    },
    "kernelspec": {
      "name": "python3",
      "display_name": "Python 3"
    },
    "language_info": {
      "name": "python"
    }
  },
  "cells": [
    {
      "cell_type": "markdown",
      "metadata": {
        "id": "view-in-github",
        "colab_type": "text"
      },
      "source": [
        "<a href=\"https://colab.research.google.com/github/Achillesy/Fetal_Functional_MRI_Segmentation/blob/master/fmri_vnet_interface.ipynb\" target=\"_parent\"><img src=\"https://colab.research.google.com/assets/colab-badge.svg\" alt=\"Open In Colab\"/></a>"
      ]
    },
    {
      "cell_type": "code",
      "execution_count": 1,
      "metadata": {
        "id": "LjRKdAHc-bTf",
        "outputId": "f3dcec83-23a1-4c3d-ac43-7db708305a39",
        "colab": {
          "base_uri": "https://localhost:8080/"
        }
      },
      "outputs": [
        {
          "output_type": "stream",
          "name": "stdout",
          "text": [
            "E: Command line option --qq is not understood in combination with the other options\n",
            "Cloning into 'Fetal_Functional_MRI_Segmentation'...\n",
            "remote: Enumerating objects: 24, done.\u001b[K\n",
            "remote: Counting objects: 100% (12/12), done.\u001b[K\n",
            "remote: Compressing objects: 100% (10/10), done.\u001b[K\n",
            "remote: Total 24 (delta 2), reused 8 (delta 1), pack-reused 12\u001b[K\n",
            "Unpacking objects: 100% (24/24), 161.22 MiB | 9.20 MiB/s, done.\n"
          ]
        }
      ],
      "source": [
        "!apt-get install --qq -y git\n",
        "!git clone https://github.com/Achillesy/Fetal_Functional_MRI_Segmentation.git"
      ]
    },
    {
      "cell_type": "code",
      "source": [
        "!cat Fetal_Functional_MRI_Segmentation/models/fold4_train_metric_vnet_part_* > fold4_train_metric_vnet.pth\n",
        "!md5sum fold4_train_metric_vnet.pth"
      ],
      "metadata": {
        "id": "EnC4Qu8m_KLA",
        "outputId": "5f37f600-446c-4999-82f9-64042c084f51",
        "colab": {
          "base_uri": "https://localhost:8080/"
        }
      },
      "execution_count": 2,
      "outputs": [
        {
          "output_type": "stream",
          "name": "stdout",
          "text": [
            "a84b7773d9e6f46b490e4dc4e888dc64  fold4_train_metric_vnet.pth\n"
          ]
        }
      ]
    }
  ]
}