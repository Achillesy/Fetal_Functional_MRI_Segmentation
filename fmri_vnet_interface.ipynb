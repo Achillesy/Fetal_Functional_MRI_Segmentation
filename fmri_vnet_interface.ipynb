{
  "nbformat": 4,
  "nbformat_minor": 0,
  "metadata": {
    "colab": {
      "provenance": [],
      "authorship_tag": "ABX9TyPuT5PCa53KagK81Q0wygmo",
      "include_colab_link": true
    },
    "kernelspec": {
      "name": "python3",
      "display_name": "Python 3"
    },
    "language_info": {
      "name": "python"
    }
  },
  "cells": [
    {
      "cell_type": "markdown",
      "metadata": {
        "id": "view-in-github",
        "colab_type": "text"
      },
      "source": [
        "<a href=\"https://colab.research.google.com/github/Achillesy/Fetal_Functional_MRI_Segmentation/blob/master/fmri_vnet_interface.ipynb\" target=\"_parent\"><img src=\"https://colab.research.google.com/assets/colab-badge.svg\" alt=\"Open In Colab\"/></a>"
      ]
    },
    {
      "cell_type": "code",
      "execution_count": 1,
      "metadata": {
        "id": "LjRKdAHc-bTf",
        "outputId": "b81f08a4-7048-4d19-8e1f-96ec6d257a90",
        "colab": {
          "base_uri": "https://localhost:8080/"
        }
      },
      "outputs": [
        {
          "output_type": "stream",
          "name": "stdout",
          "text": [
            "E: Command line option --qq is not understood in combination with the other options\n",
            "Cloning into 'Fetal_Functional_MRI_Segmentation'...\n",
            "remote: Enumerating objects: 42, done.\u001b[K\n",
            "remote: Counting objects: 100% (5/5), done.\u001b[K\n",
            "remote: Compressing objects: 100% (4/4), done.\u001b[K\n",
            "remote: Total 42 (delta 2), reused 1 (delta 1), pack-reused 37\u001b[K\n",
            "Unpacking objects: 100% (42/42), 322.51 MiB | 9.73 MiB/s, done.\n",
            "Updating files: 100% (12/12), done.\n"
          ]
        }
      ],
      "source": [
        "!apt-get install -qq -y git\n",
        "!git clone https://github.com/Achillesy/Fetal_Functional_MRI_Segmentation.git"
      ]
    },
    {
      "cell_type": "code",
      "source": [
        "import subprocess\n",
        "\n",
        "!cat Fetal_Functional_MRI_Segmentation/models/fold4_train_metric_vnet_part_* > fold4_train_metric_vnet.pth\n",
        "file_pth = \"fold4_train_metric_vnet.pth\"\n",
        "output = subprocess.check_output([\"md5sum\", file_pth])\n",
        "md5 = output.split()[0].decode()\n",
        "expected_md5 = \"cd8284f0e56f21a422b277f3be79ae10\"\n",
        "assert md5 == expected_md5, \"MD5 value does not match\""
      ],
      "metadata": {
        "id": "EnC4Qu8m_KLA"
      },
      "execution_count": 4,
      "outputs": []
    },
    {
      "cell_type": "code",
      "source": [
        "!ls -al Fetal_Functional_MRI_Segmentation/models/fold4_train_metric_vnet_part_ai\n"
      ],
      "metadata": {
        "colab": {
          "base_uri": "https://localhost:8080/"
        },
        "id": "hvYoA-BrGwp_",
        "outputId": "ed4c4ad9-a933-4af6-be4b-475209a45a15"
      },
      "execution_count": 5,
      "outputs": [
        {
          "output_type": "stream",
          "name": "stdout",
          "text": [
            "-rw-r--r-- 1 root root 14698197 May 25 13:37 Fetal_Functional_MRI_Segmentation/models/fold4_train_metric_vnet_part_ai\n"
          ]
        }
      ]
    }
  ]
}