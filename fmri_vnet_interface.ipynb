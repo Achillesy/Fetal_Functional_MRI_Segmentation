{
  "nbformat": 4,
  "nbformat_minor": 0,
  "metadata": {
    "colab": {
      "provenance": [],
      "authorship_tag": "ABX9TyOVzRs82kHYOt807pI7TSZE",
      "include_colab_link": true
    },
    "kernelspec": {
      "name": "python3",
      "display_name": "Python 3"
    },
    "language_info": {
      "name": "python"
    },
    "gpuClass": "standard"
  },
  "cells": [
    {
      "cell_type": "markdown",
      "metadata": {
        "id": "view-in-github",
        "colab_type": "text"
      },
      "source": [
        "<a href=\"https://colab.research.google.com/github/Achillesy/Fetal_Functional_MRI_Segmentation/blob/master/fmri_vnet_interface.ipynb\" target=\"_parent\"><img src=\"https://colab.research.google.com/assets/colab-badge.svg\" alt=\"Open In Colab\"/></a>"
      ]
    },
    {
      "cell_type": "code",
      "execution_count": 1,
      "metadata": {
        "id": "LjRKdAHc-bTf",
        "outputId": "8dbd7fdf-119a-437f-d03b-6ae4ebe90fcc",
        "colab": {
          "base_uri": "https://localhost:8080/"
        }
      },
      "outputs": [
        {
          "output_type": "stream",
          "name": "stdout",
          "text": [
            "fatal: destination path 'Fetal_Functional_MRI_Segmentation' already exists and is not an empty directory.\n"
          ]
        }
      ],
      "source": [
        "!apt-get install -qq -y git\n",
        "!git clone https://github.com/Achillesy/Fetal_Functional_MRI_Segmentation.git\n"
      ]
    },
    {
      "cell_type": "code",
      "source": [
        "import subprocess\n",
        "\n",
        "!cat Fetal_Functional_MRI_Segmentation/models/fold4_train_metric_vnet_part_* > fold4_train_metric_vnet.pth\n",
        "file_pth = \"fold4_train_metric_vnet.pth\"\n",
        "output = subprocess.check_output([\"md5sum\", file_pth])\n",
        "md5 = output.split()[0].decode()\n",
        "expected_md5 = \"cd8284f0e56f21a422b277f3be79ae10\"\n",
        "assert md5 == expected_md5, \"MD5 value does not match\"\n"
      ],
      "metadata": {
        "id": "EnC4Qu8m_KLA"
      },
      "execution_count": 2,
      "outputs": []
    },
    {
      "cell_type": "code",
      "source": [
        "!pip install monai\n",
        "\n",
        "from monai.config import print_config\n",
        "print_config()\n"
      ],
      "metadata": {
        "id": "DD8b1scpLgIA",
        "outputId": "67666072-4d22-4cbc-9672-59b1ec122aa1",
        "colab": {
          "base_uri": "https://localhost:8080/"
        }
      },
      "execution_count": 3,
      "outputs": [
        {
          "output_type": "stream",
          "name": "stdout",
          "text": [
            "Looking in indexes: https://pypi.org/simple, https://us-python.pkg.dev/colab-wheels/public/simple/\n",
            "Requirement already satisfied: monai in /usr/local/lib/python3.10/dist-packages (1.1.0)\n",
            "Requirement already satisfied: torch>=1.8 in /usr/local/lib/python3.10/dist-packages (from monai) (2.0.1+cu118)\n",
            "Requirement already satisfied: numpy>=1.17 in /usr/local/lib/python3.10/dist-packages (from monai) (1.22.4)\n",
            "Requirement already satisfied: filelock in /usr/local/lib/python3.10/dist-packages (from torch>=1.8->monai) (3.12.0)\n",
            "Requirement already satisfied: typing-extensions in /usr/local/lib/python3.10/dist-packages (from torch>=1.8->monai) (4.5.0)\n",
            "Requirement already satisfied: sympy in /usr/local/lib/python3.10/dist-packages (from torch>=1.8->monai) (1.11.1)\n",
            "Requirement already satisfied: networkx in /usr/local/lib/python3.10/dist-packages (from torch>=1.8->monai) (3.1)\n",
            "Requirement already satisfied: jinja2 in /usr/local/lib/python3.10/dist-packages (from torch>=1.8->monai) (3.1.2)\n",
            "Requirement already satisfied: triton==2.0.0 in /usr/local/lib/python3.10/dist-packages (from torch>=1.8->monai) (2.0.0)\n",
            "Requirement already satisfied: cmake in /usr/local/lib/python3.10/dist-packages (from triton==2.0.0->torch>=1.8->monai) (3.25.2)\n",
            "Requirement already satisfied: lit in /usr/local/lib/python3.10/dist-packages (from triton==2.0.0->torch>=1.8->monai) (16.0.5)\n",
            "Requirement already satisfied: MarkupSafe>=2.0 in /usr/local/lib/python3.10/dist-packages (from jinja2->torch>=1.8->monai) (2.1.2)\n",
            "Requirement already satisfied: mpmath>=0.19 in /usr/local/lib/python3.10/dist-packages (from sympy->torch>=1.8->monai) (1.3.0)\n",
            "MONAI version: 1.1.0\n",
            "Numpy version: 1.22.4\n",
            "Pytorch version: 2.0.1+cu118\n",
            "MONAI flags: HAS_EXT = False, USE_COMPILED = False, USE_META_DICT = False\n",
            "MONAI rev id: a2ec3752f54bfc3b40e7952234fbeb5452ed63e3\n",
            "MONAI __file__: /usr/local/lib/python3.10/dist-packages/monai/__init__.py\n",
            "\n",
            "Optional dependencies:\n",
            "Pytorch Ignite version: NOT INSTALLED or UNKNOWN VERSION.\n",
            "Nibabel version: 3.0.2\n",
            "scikit-image version: 0.19.3\n",
            "Pillow version: 8.4.0\n",
            "Tensorboard version: 2.12.2\n",
            "gdown version: 4.6.6\n",
            "TorchVision version: 0.15.2+cu118\n",
            "tqdm version: 4.65.0\n",
            "lmdb version: NOT INSTALLED or UNKNOWN VERSION.\n",
            "psutil version: 5.9.5\n",
            "pandas version: 1.5.3\n",
            "einops version: NOT INSTALLED or UNKNOWN VERSION.\n",
            "transformers version: NOT INSTALLED or UNKNOWN VERSION.\n",
            "mlflow version: NOT INSTALLED or UNKNOWN VERSION.\n",
            "pynrrd version: NOT INSTALLED or UNKNOWN VERSION.\n",
            "\n",
            "For details about installing the optional dependencies, please visit:\n",
            "    https://docs.monai.io/en/latest/installation.html#installing-the-recommended-dependencies\n",
            "\n"
          ]
        }
      ]
    },
    {
      "cell_type": "code",
      "source": [
        "import torch\n",
        "from types import SimpleNamespace\n",
        "\n",
        "cfg = SimpleNamespace(**{})\n",
        "cfg.device = torch.device(\"cuda:0\" if torch.cuda.is_available() else \"cpu\")\n"
      ],
      "metadata": {
        "id": "hvYoA-BrGwp_"
      },
      "execution_count": 4,
      "outputs": []
    },
    {
      "cell_type": "code",
      "source": [
        "from monai.networks.nets import VNet\n",
        "\n",
        "model = VNet(\n",
        "    spatial_dims=3,\n",
        "    in_channels=1,\n",
        "    out_channels=2,\n",
        "    act=(\"elu\", {\"inplace\": True}),\n",
        "    dropout_prob=0.5,\n",
        "    dropout_dim=3,\n",
        "    bias=False,\n",
        ").to(cfg.device)\n",
        "model.load_state_dict(torch.load(file_pth, cfg.device))\n"
      ],
      "metadata": {
        "id": "BTEnbatnLSXr",
        "outputId": "36b9768f-10c6-4cc2-b956-71daa4c964ab",
        "colab": {
          "base_uri": "https://localhost:8080/"
        }
      },
      "execution_count": 7,
      "outputs": [
        {
          "output_type": "execute_result",
          "data": {
            "text/plain": [
              "VNet(\n",
              "  (in_tr): InputTransition(\n",
              "    (act_function): ELU(alpha=1.0, inplace=True)\n",
              "    (conv_block): Convolution(\n",
              "      (conv): Conv3d(1, 16, kernel_size=(5, 5, 5), stride=(1, 1, 1), padding=(2, 2, 2), bias=False)\n",
              "      (adn): ADN(\n",
              "        (N): BatchNorm3d(16, eps=1e-05, momentum=0.1, affine=True, track_running_stats=True)\n",
              "      )\n",
              "    )\n",
              "  )\n",
              "  (down_tr32): DownTransition(\n",
              "    (down_conv): Conv3d(16, 32, kernel_size=(2, 2, 2), stride=(2, 2, 2), bias=False)\n",
              "    (bn1): BatchNorm3d(32, eps=1e-05, momentum=0.1, affine=True, track_running_stats=True)\n",
              "    (act_function1): ELU(alpha=1.0, inplace=True)\n",
              "    (act_function2): ELU(alpha=1.0, inplace=True)\n",
              "    (ops): Sequential(\n",
              "      (0): LUConv(\n",
              "        (act_function): ELU(alpha=1.0, inplace=True)\n",
              "        (conv_block): Convolution(\n",
              "          (conv): Conv3d(32, 32, kernel_size=(5, 5, 5), stride=(1, 1, 1), padding=(2, 2, 2), bias=False)\n",
              "          (adn): ADN(\n",
              "            (N): BatchNorm3d(32, eps=1e-05, momentum=0.1, affine=True, track_running_stats=True)\n",
              "          )\n",
              "        )\n",
              "      )\n",
              "    )\n",
              "  )\n",
              "  (down_tr64): DownTransition(\n",
              "    (down_conv): Conv3d(32, 64, kernel_size=(2, 2, 2), stride=(2, 2, 2), bias=False)\n",
              "    (bn1): BatchNorm3d(64, eps=1e-05, momentum=0.1, affine=True, track_running_stats=True)\n",
              "    (act_function1): ELU(alpha=1.0, inplace=True)\n",
              "    (act_function2): ELU(alpha=1.0, inplace=True)\n",
              "    (ops): Sequential(\n",
              "      (0): LUConv(\n",
              "        (act_function): ELU(alpha=1.0, inplace=True)\n",
              "        (conv_block): Convolution(\n",
              "          (conv): Conv3d(64, 64, kernel_size=(5, 5, 5), stride=(1, 1, 1), padding=(2, 2, 2), bias=False)\n",
              "          (adn): ADN(\n",
              "            (N): BatchNorm3d(64, eps=1e-05, momentum=0.1, affine=True, track_running_stats=True)\n",
              "          )\n",
              "        )\n",
              "      )\n",
              "      (1): LUConv(\n",
              "        (act_function): ELU(alpha=1.0, inplace=True)\n",
              "        (conv_block): Convolution(\n",
              "          (conv): Conv3d(64, 64, kernel_size=(5, 5, 5), stride=(1, 1, 1), padding=(2, 2, 2), bias=False)\n",
              "          (adn): ADN(\n",
              "            (N): BatchNorm3d(64, eps=1e-05, momentum=0.1, affine=True, track_running_stats=True)\n",
              "          )\n",
              "        )\n",
              "      )\n",
              "    )\n",
              "  )\n",
              "  (down_tr128): DownTransition(\n",
              "    (down_conv): Conv3d(64, 128, kernel_size=(2, 2, 2), stride=(2, 2, 2), bias=False)\n",
              "    (bn1): BatchNorm3d(128, eps=1e-05, momentum=0.1, affine=True, track_running_stats=True)\n",
              "    (act_function1): ELU(alpha=1.0, inplace=True)\n",
              "    (act_function2): ELU(alpha=1.0, inplace=True)\n",
              "    (ops): Sequential(\n",
              "      (0): LUConv(\n",
              "        (act_function): ELU(alpha=1.0, inplace=True)\n",
              "        (conv_block): Convolution(\n",
              "          (conv): Conv3d(128, 128, kernel_size=(5, 5, 5), stride=(1, 1, 1), padding=(2, 2, 2), bias=False)\n",
              "          (adn): ADN(\n",
              "            (N): BatchNorm3d(128, eps=1e-05, momentum=0.1, affine=True, track_running_stats=True)\n",
              "          )\n",
              "        )\n",
              "      )\n",
              "      (1): LUConv(\n",
              "        (act_function): ELU(alpha=1.0, inplace=True)\n",
              "        (conv_block): Convolution(\n",
              "          (conv): Conv3d(128, 128, kernel_size=(5, 5, 5), stride=(1, 1, 1), padding=(2, 2, 2), bias=False)\n",
              "          (adn): ADN(\n",
              "            (N): BatchNorm3d(128, eps=1e-05, momentum=0.1, affine=True, track_running_stats=True)\n",
              "          )\n",
              "        )\n",
              "      )\n",
              "      (2): LUConv(\n",
              "        (act_function): ELU(alpha=1.0, inplace=True)\n",
              "        (conv_block): Convolution(\n",
              "          (conv): Conv3d(128, 128, kernel_size=(5, 5, 5), stride=(1, 1, 1), padding=(2, 2, 2), bias=False)\n",
              "          (adn): ADN(\n",
              "            (N): BatchNorm3d(128, eps=1e-05, momentum=0.1, affine=True, track_running_stats=True)\n",
              "          )\n",
              "        )\n",
              "      )\n",
              "    )\n",
              "    (dropout): Dropout3d(p=0.5, inplace=False)\n",
              "  )\n",
              "  (down_tr256): DownTransition(\n",
              "    (down_conv): Conv3d(128, 256, kernel_size=(2, 2, 2), stride=(2, 2, 2), bias=False)\n",
              "    (bn1): BatchNorm3d(256, eps=1e-05, momentum=0.1, affine=True, track_running_stats=True)\n",
              "    (act_function1): ELU(alpha=1.0, inplace=True)\n",
              "    (act_function2): ELU(alpha=1.0, inplace=True)\n",
              "    (ops): Sequential(\n",
              "      (0): LUConv(\n",
              "        (act_function): ELU(alpha=1.0, inplace=True)\n",
              "        (conv_block): Convolution(\n",
              "          (conv): Conv3d(256, 256, kernel_size=(5, 5, 5), stride=(1, 1, 1), padding=(2, 2, 2), bias=False)\n",
              "          (adn): ADN(\n",
              "            (N): BatchNorm3d(256, eps=1e-05, momentum=0.1, affine=True, track_running_stats=True)\n",
              "          )\n",
              "        )\n",
              "      )\n",
              "      (1): LUConv(\n",
              "        (act_function): ELU(alpha=1.0, inplace=True)\n",
              "        (conv_block): Convolution(\n",
              "          (conv): Conv3d(256, 256, kernel_size=(5, 5, 5), stride=(1, 1, 1), padding=(2, 2, 2), bias=False)\n",
              "          (adn): ADN(\n",
              "            (N): BatchNorm3d(256, eps=1e-05, momentum=0.1, affine=True, track_running_stats=True)\n",
              "          )\n",
              "        )\n",
              "      )\n",
              "    )\n",
              "    (dropout): Dropout3d(p=0.5, inplace=False)\n",
              "  )\n",
              "  (up_tr256): UpTransition(\n",
              "    (up_conv): ConvTranspose3d(256, 128, kernel_size=(2, 2, 2), stride=(2, 2, 2))\n",
              "    (bn1): BatchNorm3d(128, eps=1e-05, momentum=0.1, affine=True, track_running_stats=True)\n",
              "    (dropout): Dropout3d(p=0.5, inplace=False)\n",
              "    (dropout2): Dropout3d(p=0.5, inplace=False)\n",
              "    (act_function1): ELU(alpha=1.0, inplace=True)\n",
              "    (act_function2): ELU(alpha=1.0, inplace=True)\n",
              "    (ops): Sequential(\n",
              "      (0): LUConv(\n",
              "        (act_function): ELU(alpha=1.0, inplace=True)\n",
              "        (conv_block): Convolution(\n",
              "          (conv): Conv3d(256, 256, kernel_size=(5, 5, 5), stride=(1, 1, 1), padding=(2, 2, 2), bias=False)\n",
              "          (adn): ADN(\n",
              "            (N): BatchNorm3d(256, eps=1e-05, momentum=0.1, affine=True, track_running_stats=True)\n",
              "          )\n",
              "        )\n",
              "      )\n",
              "      (1): LUConv(\n",
              "        (act_function): ELU(alpha=1.0, inplace=True)\n",
              "        (conv_block): Convolution(\n",
              "          (conv): Conv3d(256, 256, kernel_size=(5, 5, 5), stride=(1, 1, 1), padding=(2, 2, 2), bias=False)\n",
              "          (adn): ADN(\n",
              "            (N): BatchNorm3d(256, eps=1e-05, momentum=0.1, affine=True, track_running_stats=True)\n",
              "          )\n",
              "        )\n",
              "      )\n",
              "    )\n",
              "  )\n",
              "  (up_tr128): UpTransition(\n",
              "    (up_conv): ConvTranspose3d(256, 64, kernel_size=(2, 2, 2), stride=(2, 2, 2))\n",
              "    (bn1): BatchNorm3d(64, eps=1e-05, momentum=0.1, affine=True, track_running_stats=True)\n",
              "    (dropout): Dropout3d(p=0.5, inplace=False)\n",
              "    (dropout2): Dropout3d(p=0.5, inplace=False)\n",
              "    (act_function1): ELU(alpha=1.0, inplace=True)\n",
              "    (act_function2): ELU(alpha=1.0, inplace=True)\n",
              "    (ops): Sequential(\n",
              "      (0): LUConv(\n",
              "        (act_function): ELU(alpha=1.0, inplace=True)\n",
              "        (conv_block): Convolution(\n",
              "          (conv): Conv3d(128, 128, kernel_size=(5, 5, 5), stride=(1, 1, 1), padding=(2, 2, 2), bias=False)\n",
              "          (adn): ADN(\n",
              "            (N): BatchNorm3d(128, eps=1e-05, momentum=0.1, affine=True, track_running_stats=True)\n",
              "          )\n",
              "        )\n",
              "      )\n",
              "      (1): LUConv(\n",
              "        (act_function): ELU(alpha=1.0, inplace=True)\n",
              "        (conv_block): Convolution(\n",
              "          (conv): Conv3d(128, 128, kernel_size=(5, 5, 5), stride=(1, 1, 1), padding=(2, 2, 2), bias=False)\n",
              "          (adn): ADN(\n",
              "            (N): BatchNorm3d(128, eps=1e-05, momentum=0.1, affine=True, track_running_stats=True)\n",
              "          )\n",
              "        )\n",
              "      )\n",
              "    )\n",
              "  )\n",
              "  (up_tr64): UpTransition(\n",
              "    (up_conv): ConvTranspose3d(128, 32, kernel_size=(2, 2, 2), stride=(2, 2, 2))\n",
              "    (bn1): BatchNorm3d(32, eps=1e-05, momentum=0.1, affine=True, track_running_stats=True)\n",
              "    (dropout2): Dropout3d(p=0.5, inplace=False)\n",
              "    (act_function1): ELU(alpha=1.0, inplace=True)\n",
              "    (act_function2): ELU(alpha=1.0, inplace=True)\n",
              "    (ops): Sequential(\n",
              "      (0): LUConv(\n",
              "        (act_function): ELU(alpha=1.0, inplace=True)\n",
              "        (conv_block): Convolution(\n",
              "          (conv): Conv3d(64, 64, kernel_size=(5, 5, 5), stride=(1, 1, 1), padding=(2, 2, 2), bias=False)\n",
              "          (adn): ADN(\n",
              "            (N): BatchNorm3d(64, eps=1e-05, momentum=0.1, affine=True, track_running_stats=True)\n",
              "          )\n",
              "        )\n",
              "      )\n",
              "    )\n",
              "  )\n",
              "  (up_tr32): UpTransition(\n",
              "    (up_conv): ConvTranspose3d(64, 16, kernel_size=(2, 2, 2), stride=(2, 2, 2))\n",
              "    (bn1): BatchNorm3d(16, eps=1e-05, momentum=0.1, affine=True, track_running_stats=True)\n",
              "    (dropout2): Dropout3d(p=0.5, inplace=False)\n",
              "    (act_function1): ELU(alpha=1.0, inplace=True)\n",
              "    (act_function2): ELU(alpha=1.0, inplace=True)\n",
              "    (ops): Sequential(\n",
              "      (0): LUConv(\n",
              "        (act_function): ELU(alpha=1.0, inplace=True)\n",
              "        (conv_block): Convolution(\n",
              "          (conv): Conv3d(32, 32, kernel_size=(5, 5, 5), stride=(1, 1, 1), padding=(2, 2, 2), bias=False)\n",
              "          (adn): ADN(\n",
              "            (N): BatchNorm3d(32, eps=1e-05, momentum=0.1, affine=True, track_running_stats=True)\n",
              "          )\n",
              "        )\n",
              "      )\n",
              "    )\n",
              "  )\n",
              "  (out_tr): OutputTransition(\n",
              "    (act_function1): ELU(alpha=1.0, inplace=True)\n",
              "    (conv_block): Convolution(\n",
              "      (conv): Conv3d(32, 2, kernel_size=(5, 5, 5), stride=(1, 1, 1), padding=(2, 2, 2), bias=False)\n",
              "      (adn): ADN(\n",
              "        (N): BatchNorm3d(2, eps=1e-05, momentum=0.1, affine=True, track_running_stats=True)\n",
              "      )\n",
              "    )\n",
              "    (conv2): Conv3d(2, 2, kernel_size=(1, 1, 1), stride=(1, 1, 1))\n",
              "  )\n",
              ")"
            ]
          },
          "metadata": {},
          "execution_count": 7
        }
      ]
    },
    {
      "cell_type": "code",
      "source": [
        "cfg.device"
      ],
      "metadata": {
        "id": "I_pwLzSNLOQ2",
        "outputId": "af3461ee-31da-4edf-d2f4-bfd9b92b71e0",
        "colab": {
          "base_uri": "https://localhost:8080/"
        }
      },
      "execution_count": 6,
      "outputs": [
        {
          "output_type": "execute_result",
          "data": {
            "text/plain": [
              "device(type='cpu')"
            ]
          },
          "metadata": {},
          "execution_count": 6
        }
      ]
    }
  ]
}