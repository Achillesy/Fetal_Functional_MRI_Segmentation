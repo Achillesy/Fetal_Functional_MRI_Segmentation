{
  "nbformat": 4,
  "nbformat_minor": 0,
  "metadata": {
    "colab": {
      "provenance": [],
      "authorship_tag": "ABX9TyMBULml+Jf17VT3GVt8U+St",
      "include_colab_link": true
    },
    "kernelspec": {
      "name": "python3",
      "display_name": "Python 3"
    },
    "language_info": {
      "name": "python"
    },
    "gpuClass": "standard",
    "widgets": {
      "application/vnd.jupyter.widget-state+json": {
        "578798df3f684b62a2bbf75d299d9ae7": {
          "model_module": "@jupyter-widgets/controls",
          "model_name": "FileUploadModel",
          "model_module_version": "1.5.0",
          "state": {
            "_counter": 2,
            "_dom_classes": [],
            "_model_module": "@jupyter-widgets/controls",
            "_model_module_version": "1.5.0",
            "_model_name": "FileUploadModel",
            "_view_count": null,
            "_view_module": "@jupyter-widgets/controls",
            "_view_module_version": "1.5.0",
            "_view_name": "FileUploadView",
            "accept": "",
            "button_style": "",
            "data": [
              null
            ],
            "description": "Upload",
            "description_tooltip": null,
            "disabled": false,
            "error": "",
            "icon": "upload",
            "layout": "IPY_MODEL_190e0121bb59403db5e12e4bb63ff987",
            "metadata": [
              {
                "name": "sub-2013_ses-T1_task-rest_bold.nii.gz",
                "type": "application/x-gzip",
                "size": 1338711,
                "lastModified": 1679684198477
              }
            ],
            "multiple": false,
            "style": "IPY_MODEL_9da5d5d0316647e3aa4dfa18232b01a6"
          }
        },
        "190e0121bb59403db5e12e4bb63ff987": {
          "model_module": "@jupyter-widgets/base",
          "model_name": "LayoutModel",
          "model_module_version": "1.2.0",
          "state": {
            "_model_module": "@jupyter-widgets/base",
            "_model_module_version": "1.2.0",
            "_model_name": "LayoutModel",
            "_view_count": null,
            "_view_module": "@jupyter-widgets/base",
            "_view_module_version": "1.2.0",
            "_view_name": "LayoutView",
            "align_content": null,
            "align_items": null,
            "align_self": null,
            "border": null,
            "bottom": null,
            "display": null,
            "flex": null,
            "flex_flow": null,
            "grid_area": null,
            "grid_auto_columns": null,
            "grid_auto_flow": null,
            "grid_auto_rows": null,
            "grid_column": null,
            "grid_gap": null,
            "grid_row": null,
            "grid_template_areas": null,
            "grid_template_columns": null,
            "grid_template_rows": null,
            "height": null,
            "justify_content": null,
            "justify_items": null,
            "left": null,
            "margin": null,
            "max_height": null,
            "max_width": null,
            "min_height": null,
            "min_width": null,
            "object_fit": null,
            "object_position": null,
            "order": null,
            "overflow": null,
            "overflow_x": null,
            "overflow_y": null,
            "padding": null,
            "right": null,
            "top": null,
            "visibility": null,
            "width": null
          }
        },
        "9da5d5d0316647e3aa4dfa18232b01a6": {
          "model_module": "@jupyter-widgets/controls",
          "model_name": "ButtonStyleModel",
          "model_module_version": "1.5.0",
          "state": {
            "_model_module": "@jupyter-widgets/controls",
            "_model_module_version": "1.5.0",
            "_model_name": "ButtonStyleModel",
            "_view_count": null,
            "_view_module": "@jupyter-widgets/base",
            "_view_module_version": "1.2.0",
            "_view_name": "StyleView",
            "button_color": null,
            "font_weight": ""
          }
        }
      }
    }
  },
  "cells": [
    {
      "cell_type": "markdown",
      "metadata": {
        "id": "view-in-github",
        "colab_type": "text"
      },
      "source": [
        "<a href=\"https://colab.research.google.com/github/Achillesy/Fetal_Functional_MRI_Segmentation/blob/master/fmri_vnet_interface.ipynb\" target=\"_parent\"><img src=\"https://colab.research.google.com/assets/colab-badge.svg\" alt=\"Open In Colab\"/></a>"
      ]
    },
    {
      "cell_type": "code",
      "execution_count": 1,
      "metadata": {
        "id": "LjRKdAHc-bTf",
        "outputId": "57ac8cf5-499c-4ded-a206-5912a2d2facc",
        "colab": {
          "base_uri": "https://localhost:8080/"
        }
      },
      "outputs": [
        {
          "output_type": "stream",
          "name": "stdout",
          "text": [
            "fatal: destination path 'Fetal_Functional_MRI_Segmentation' already exists and is not an empty directory.\n"
          ]
        }
      ],
      "source": [
        "!apt-get install -qq -y git\n",
        "!git clone https://github.com/Achillesy/Fetal_Functional_MRI_Segmentation.git\n"
      ]
    },
    {
      "cell_type": "code",
      "source": [
        "import subprocess\n",
        "\n",
        "!cat Fetal_Functional_MRI_Segmentation/models/fold4_train_metric_vnet_part_* > fold4_train_metric_vnet.pth\n",
        "file_pth = \"fold4_train_metric_vnet.pth\"\n",
        "output = subprocess.check_output([\"md5sum\", file_pth])\n",
        "md5 = output.split()[0].decode()\n",
        "expected_md5 = \"cd8284f0e56f21a422b277f3be79ae10\"\n",
        "assert md5 == expected_md5, \"MD5 value does not match\"\n"
      ],
      "metadata": {
        "id": "EnC4Qu8m_KLA"
      },
      "execution_count": 2,
      "outputs": []
    },
    {
      "cell_type": "code",
      "source": [
        "!pip install monai\n",
        "\n",
        "from monai.config import print_config\n",
        "print_config()\n"
      ],
      "metadata": {
        "id": "DD8b1scpLgIA",
        "outputId": "94cc904e-0604-46b6-dd3e-80acb402e728",
        "colab": {
          "base_uri": "https://localhost:8080/"
        }
      },
      "execution_count": 3,
      "outputs": [
        {
          "output_type": "stream",
          "name": "stdout",
          "text": [
            "Looking in indexes: https://pypi.org/simple, https://us-python.pkg.dev/colab-wheels/public/simple/\n",
            "Requirement already satisfied: monai in /usr/local/lib/python3.10/dist-packages (1.1.0)\n",
            "Requirement already satisfied: torch>=1.8 in /usr/local/lib/python3.10/dist-packages (from monai) (2.0.1+cu118)\n",
            "Requirement already satisfied: numpy>=1.17 in /usr/local/lib/python3.10/dist-packages (from monai) (1.22.4)\n",
            "Requirement already satisfied: filelock in /usr/local/lib/python3.10/dist-packages (from torch>=1.8->monai) (3.12.0)\n",
            "Requirement already satisfied: typing-extensions in /usr/local/lib/python3.10/dist-packages (from torch>=1.8->monai) (4.5.0)\n",
            "Requirement already satisfied: sympy in /usr/local/lib/python3.10/dist-packages (from torch>=1.8->monai) (1.11.1)\n",
            "Requirement already satisfied: networkx in /usr/local/lib/python3.10/dist-packages (from torch>=1.8->monai) (3.1)\n",
            "Requirement already satisfied: jinja2 in /usr/local/lib/python3.10/dist-packages (from torch>=1.8->monai) (3.1.2)\n",
            "Requirement already satisfied: triton==2.0.0 in /usr/local/lib/python3.10/dist-packages (from torch>=1.8->monai) (2.0.0)\n",
            "Requirement already satisfied: cmake in /usr/local/lib/python3.10/dist-packages (from triton==2.0.0->torch>=1.8->monai) (3.25.2)\n",
            "Requirement already satisfied: lit in /usr/local/lib/python3.10/dist-packages (from triton==2.0.0->torch>=1.8->monai) (16.0.5)\n",
            "Requirement already satisfied: MarkupSafe>=2.0 in /usr/local/lib/python3.10/dist-packages (from jinja2->torch>=1.8->monai) (2.1.2)\n",
            "Requirement already satisfied: mpmath>=0.19 in /usr/local/lib/python3.10/dist-packages (from sympy->torch>=1.8->monai) (1.3.0)\n",
            "MONAI version: 1.1.0\n",
            "Numpy version: 1.22.4\n",
            "Pytorch version: 2.0.1+cu118\n",
            "MONAI flags: HAS_EXT = False, USE_COMPILED = False, USE_META_DICT = False\n",
            "MONAI rev id: a2ec3752f54bfc3b40e7952234fbeb5452ed63e3\n",
            "MONAI __file__: /usr/local/lib/python3.10/dist-packages/monai/__init__.py\n",
            "\n",
            "Optional dependencies:\n",
            "Pytorch Ignite version: NOT INSTALLED or UNKNOWN VERSION.\n",
            "Nibabel version: 3.0.2\n",
            "scikit-image version: 0.19.3\n",
            "Pillow version: 8.4.0\n",
            "Tensorboard version: 2.12.2\n",
            "gdown version: 4.6.6\n",
            "TorchVision version: 0.15.2+cu118\n",
            "tqdm version: 4.65.0\n",
            "lmdb version: NOT INSTALLED or UNKNOWN VERSION.\n",
            "psutil version: 5.9.5\n",
            "pandas version: 1.5.3\n",
            "einops version: NOT INSTALLED or UNKNOWN VERSION.\n",
            "transformers version: NOT INSTALLED or UNKNOWN VERSION.\n",
            "mlflow version: NOT INSTALLED or UNKNOWN VERSION.\n",
            "pynrrd version: NOT INSTALLED or UNKNOWN VERSION.\n",
            "\n",
            "For details about installing the optional dependencies, please visit:\n",
            "    https://docs.monai.io/en/latest/installation.html#installing-the-recommended-dependencies\n",
            "\n"
          ]
        }
      ]
    },
    {
      "cell_type": "code",
      "source": [
        "import os\n",
        "import numpy as np\n",
        "import nibabel as nib\n",
        "from glob import glob\n",
        "\n",
        "import torch\n",
        "from types import SimpleNamespace\n",
        "from google.colab import files\n",
        "\n",
        "cfg = SimpleNamespace(**{})\n",
        "cfg.pixdim = (3.5, 3.5, 3.5)\n",
        "cfg.roi_size = [64, 64, 64]\n",
        "cfg.sw_batch_size = 4\n",
        "\n",
        "cfg.mri_dir = \"mri\"\n",
        "cfg.mask_dir = \"mask\"\n",
        "\n",
        "cfg.device = torch.device(\"cuda:0\" if torch.cuda.is_available() else \"cpu\")\n"
      ],
      "metadata": {
        "id": "hvYoA-BrGwp_"
      },
      "execution_count": 4,
      "outputs": []
    },
    {
      "cell_type": "code",
      "source": [
        "from monai.networks.nets import VNet\n",
        "\n",
        "model = VNet(\n",
        "  spatial_dims=3,\n",
        "  in_channels=1,\n",
        "  out_channels=2,\n",
        "  act=(\"elu\", {\"inplace\": True}),\n",
        "  dropout_dim=3,\n",
        "  bias=False,\n",
        ").to(cfg.device)\n",
        "model.load_state_dict(torch.load(file_pth, cfg.device))\n"
      ],
      "metadata": {
        "id": "BTEnbatnLSXr",
        "outputId": "510f3e36-aae2-4cf2-f18c-10ae21b1e76e",
        "colab": {
          "base_uri": "https://localhost:8080/"
        }
      },
      "execution_count": 5,
      "outputs": [
        {
          "output_type": "execute_result",
          "data": {
            "text/plain": [
              "<All keys matched successfully>"
            ]
          },
          "metadata": {},
          "execution_count": 5
        }
      ]
    },
    {
      "cell_type": "code",
      "source": [
        "from monai.transforms import (\n",
        "  AsDiscreted,\n",
        "  Compose,\n",
        "  # CropForegroundd,\n",
        "  EnsureChannelFirstd,\n",
        "  Invertd,\n",
        "  # Lambda,\n",
        "  LoadImaged,\n",
        "  NormalizeIntensityd,\n",
        "  Orientationd,\n",
        "  SaveImaged,\n",
        "  Spacingd,\n",
        ")\n",
        "\n",
        "test_transforms = Compose(\n",
        "  [\n",
        "    LoadImaged(keys=[\"image\"]),\n",
        "    EnsureChannelFirstd(keys=[\"image\"]),\n",
        "    Orientationd(keys=[\"image\"], axcodes=\"RAS\"),\n",
        "    Spacingd(keys=[\"image\"], pixdim=cfg.pixdim, mode=\"bilinear\"),\n",
        "    NormalizeIntensityd(keys=\"image\", nonzero=True),\n",
        "  ]\n",
        ")\n",
        "\n",
        "post_transforms = Compose(\n",
        "  [\n",
        "    Invertd(\n",
        "      keys=\"pred\",\n",
        "      transform=test_transforms,\n",
        "      orig_keys=\"image\",\n",
        "      meta_keys=\"pred_meta_dict\",\n",
        "      orig_meta_keys=\"image_meta_dict\",\n",
        "      meta_key_postfix=\"meta_dict\",\n",
        "      nearest_interp=False,\n",
        "      to_tensor=True,\n",
        "    ),\n",
        "    AsDiscreted(keys=\"pred\", argmax=True),\n",
        "    SaveImaged(\n",
        "      keys=\"pred\",\n",
        "      meta_keys=\"pred_meta_dict\",\n",
        "      output_dir=cfg.mask_dir,\n",
        "      output_postfix=\"vnet\",\n",
        "      resample=False,\n",
        "    ),\n",
        "  ]\n",
        ")"
      ],
      "metadata": {
        "id": "I_pwLzSNLOQ2"
      },
      "execution_count": 6,
      "outputs": []
    },
    {
      "cell_type": "code",
      "source": [
        "import os\n",
        "import io\n",
        "import ipywidgets as widgets\n",
        "\n",
        "!rm -rf {cfg.mri_dir}\n",
        "!rm -rf {cfg.mask_dir}\n",
        "!rm *.nii.gz\n",
        "\n",
        "def upload_file():\n",
        "  upload_button = widgets.FileUpload()\n",
        "  display(upload_button)\n",
        "\n",
        "  def handle_upload_button(sender):\n",
        "    for filename, content in upload_button.value.items():\n",
        "      with io.BytesIO(content['content']) as file:\n",
        "          print(\"fMRI file:\", filename)\n",
        "\n",
        "  upload_button.observe(handle_upload_button, names='value')\n",
        "\n",
        "upload_file()\n",
        "os.makedirs(cfg.mri_dir, exist_ok=True)\n",
        "os.makedirs(cfg.mask_dir, exist_ok=True)\n",
        "\n",
        "input(\"Please upload the fMRI files and then press Enter to continue\")\n"
      ],
      "metadata": {
        "id": "aOgIhVX1TmyT",
        "outputId": "adf44e8b-57b1-44d3-f365-792798bb82cc",
        "colab": {
          "base_uri": "https://localhost:8080/",
          "height": 84,
          "referenced_widgets": [
            "578798df3f684b62a2bbf75d299d9ae7",
            "190e0121bb59403db5e12e4bb63ff987",
            "9da5d5d0316647e3aa4dfa18232b01a6"
          ]
        }
      },
      "execution_count": 9,
      "outputs": [
        {
          "output_type": "display_data",
          "data": {
            "text/plain": [
              "FileUpload(value={}, description='Upload')"
            ],
            "application/vnd.jupyter.widget-view+json": {
              "version_major": 2,
              "version_minor": 0,
              "model_id": "578798df3f684b62a2bbf75d299d9ae7"
            }
          },
          "metadata": {}
        },
        {
          "output_type": "stream",
          "name": "stdout",
          "text": [
            "fMRI file: sub-2011_ses-T1_task-rest_bold.nii.gz\n",
            "fMRI file: sub-2013_ses-T1_task-rest_bold.nii.gz\n"
          ]
        }
      ]
    },
    {
      "cell_type": "code",
      "source": [],
      "metadata": {
        "id": "0l3UC_7HVM02",
        "outputId": "36c77682-dd2e-42b5-ea2b-7ab2dd9267ef",
        "colab": {
          "base_uri": "https://localhost:8080/",
          "height": 311
        }
      },
      "execution_count": 8,
      "outputs": [
        {
          "output_type": "error",
          "ename": "KeyboardInterrupt",
          "evalue": "ignored",
          "traceback": [
            "\u001b[0;31m---------------------------------------------------------------------------\u001b[0m",
            "\u001b[0;31mKeyboardInterrupt\u001b[0m                         Traceback (most recent call last)",
            "\u001b[0;32m<ipython-input-8-dd1227a9a3dc>\u001b[0m in \u001b[0;36m<cell line: 1>\u001b[0;34m()\u001b[0m\n\u001b[0;32m----> 1\u001b[0;31m \u001b[0minput\u001b[0m\u001b[0;34m(\u001b[0m\u001b[0;34m\"Please upload the fMRI files and then press Enter to continue\"\u001b[0m\u001b[0;34m)\u001b[0m\u001b[0;34m\u001b[0m\u001b[0;34m\u001b[0m\u001b[0m\n\u001b[0m",
            "\u001b[0;32m/usr/local/lib/python3.10/dist-packages/ipykernel/kernelbase.py\u001b[0m in \u001b[0;36mraw_input\u001b[0;34m(self, prompt)\u001b[0m\n\u001b[1;32m    849\u001b[0m                 \u001b[0;34m\"raw_input was called, but this frontend does not support input requests.\"\u001b[0m\u001b[0;34m\u001b[0m\u001b[0;34m\u001b[0m\u001b[0m\n\u001b[1;32m    850\u001b[0m             )\n\u001b[0;32m--> 851\u001b[0;31m         return self._input_request(str(prompt),\n\u001b[0m\u001b[1;32m    852\u001b[0m             \u001b[0mself\u001b[0m\u001b[0;34m.\u001b[0m\u001b[0m_parent_ident\u001b[0m\u001b[0;34m,\u001b[0m\u001b[0;34m\u001b[0m\u001b[0;34m\u001b[0m\u001b[0m\n\u001b[1;32m    853\u001b[0m             \u001b[0mself\u001b[0m\u001b[0;34m.\u001b[0m\u001b[0m_parent_header\u001b[0m\u001b[0;34m,\u001b[0m\u001b[0;34m\u001b[0m\u001b[0;34m\u001b[0m\u001b[0m\n",
            "\u001b[0;32m/usr/local/lib/python3.10/dist-packages/ipykernel/kernelbase.py\u001b[0m in \u001b[0;36m_input_request\u001b[0;34m(self, prompt, ident, parent, password)\u001b[0m\n\u001b[1;32m    893\u001b[0m             \u001b[0;32mexcept\u001b[0m \u001b[0mKeyboardInterrupt\u001b[0m\u001b[0;34m:\u001b[0m\u001b[0;34m\u001b[0m\u001b[0;34m\u001b[0m\u001b[0m\n\u001b[1;32m    894\u001b[0m                 \u001b[0;31m# re-raise KeyboardInterrupt, to truncate traceback\u001b[0m\u001b[0;34m\u001b[0m\u001b[0;34m\u001b[0m\u001b[0m\n\u001b[0;32m--> 895\u001b[0;31m                 \u001b[0;32mraise\u001b[0m \u001b[0mKeyboardInterrupt\u001b[0m\u001b[0;34m(\u001b[0m\u001b[0;34m\"Interrupted by user\"\u001b[0m\u001b[0;34m)\u001b[0m \u001b[0;32mfrom\u001b[0m \u001b[0;32mNone\u001b[0m\u001b[0;34m\u001b[0m\u001b[0;34m\u001b[0m\u001b[0m\n\u001b[0m\u001b[1;32m    896\u001b[0m             \u001b[0;32mexcept\u001b[0m \u001b[0mException\u001b[0m \u001b[0;32mas\u001b[0m \u001b[0me\u001b[0m\u001b[0;34m:\u001b[0m\u001b[0;34m\u001b[0m\u001b[0;34m\u001b[0m\u001b[0m\n\u001b[1;32m    897\u001b[0m                 \u001b[0mself\u001b[0m\u001b[0;34m.\u001b[0m\u001b[0mlog\u001b[0m\u001b[0;34m.\u001b[0m\u001b[0mwarning\u001b[0m\u001b[0;34m(\u001b[0m\u001b[0;34m\"Invalid Message:\"\u001b[0m\u001b[0;34m,\u001b[0m \u001b[0mexc_info\u001b[0m\u001b[0;34m=\u001b[0m\u001b[0;32mTrue\u001b[0m\u001b[0;34m)\u001b[0m\u001b[0;34m\u001b[0m\u001b[0;34m\u001b[0m\u001b[0m\n",
            "\u001b[0;31mKeyboardInterrupt\u001b[0m: Interrupted by user"
          ]
        }
      ]
    },
    {
      "cell_type": "code",
      "source": [
        "frmi_files = glob(\"*.nii.gz\")\n",
        "for fmri_data in frmi_files:\n",
        "  fmri_data_name = os.path.basename(fmri_data).replace(\".nii.gz\", \"\")\n",
        "  image = nib.load(fmri_data)\n",
        "  data = image.get_fdata()\n",
        "  if len(data.shape) != 4:\n",
        "    raise ValueError(\"Invalid shape of fMRI file format. Expected 4D shape: [x, y, z, t]\")\n",
        "  channel_list = np.split(data, data.shape[-1], axis=-1)\n",
        "  for i, channel in enumerate(channel_list):\n",
        "    channel_image = nib.Nifti1Image(channel, image.affine)\n",
        "    channel_file_name = os.path.join(cfg.mri_dir, f\"{fmri_data_name}_{i+1}.nii.gz\")\n",
        "    nib.save(channel_image, channel_file_name)\n"
      ],
      "metadata": {
        "id": "2z_9HOboPQky"
      },
      "execution_count": null,
      "outputs": []
    },
    {
      "cell_type": "code",
      "source": [
        "test_files = []\n",
        "rmi_files = glob(os.path.join(cfg.mri_dir, \"*.nii.gz\"))\n",
        "for f_file in rmi_files:\n",
        "  test_files.append({\"image\": f_file})\n",
        "print(test_files)\n"
      ],
      "metadata": {
        "id": "UwGKtCioPYwx"
      },
      "execution_count": null,
      "outputs": []
    },
    {
      "cell_type": "code",
      "source": [
        "from monai.inferers import sliding_window_inference\n",
        "from monai.data import DataLoader, Dataset, decollate_batch\n",
        "\n",
        "test_ds = Dataset(data=test_files, transform=test_transforms)\n",
        "test_loader = DataLoader(test_ds, batch_size=1)\n"
      ],
      "metadata": {
        "id": "rxSmofwbPaoi"
      },
      "execution_count": null,
      "outputs": []
    },
    {
      "cell_type": "code",
      "source": [
        "with torch.no_grad():\n",
        "  for test_data in test_loader:\n",
        "    test_inputs = test_data[\"image\"].to(cfg.device)\n",
        "    test_data[\"pred\"] = sliding_window_inference(\n",
        "      test_inputs, cfg.roi_size, cfg.sw_batch_size, model\n",
        "    )\n",
        "    test_data = [post_transforms(i) for i in decollate_batch(test_data)]"
      ],
      "metadata": {
        "id": "mMwtJ79tPc8K"
      },
      "execution_count": null,
      "outputs": []
    },
    {
      "cell_type": "code",
      "source": [
        "for fmri_data in frmi_files:\n",
        "  image = nib.load(fmri_data)\n",
        "  data = image.get_fdata()\n",
        "\n",
        "  fmri_data_name = os.path.basename(fmri_data).replace(\".nii.gz\", \"\")\n",
        "  mask_data = np.zeros_like(data)\n",
        "  for i in range(data.shape[-1]):\n",
        "    i_mask_file = os.path.join(cfg.mask_dir,  f\"{fmri_data_name}_{i+1}\", f\"{fmri_data_name}_{i+1}_vnet.nii.gz\")\n",
        "    i_mask_data = nib.load(i_mask_file).get_fdata()\n",
        "    mask_data[:,:,:,i] = i_mask_data\n",
        "  fmri_mask = nib.Nifti1Image(mask_data, affine=image.affine, header=image.header)\n",
        "  mask_data_name = f\"{fmri_data_name}_vnet.nii.gz\"\n",
        "  fmri_mask.to_filename(mask_data_name)\n",
        "  files.download(mask_data_name)"
      ],
      "metadata": {
        "id": "0TCtG03GPhVh"
      },
      "execution_count": null,
      "outputs": []
    },
    {
      "cell_type": "code",
      "source": [],
      "metadata": {
        "id": "HfzH1p9gPiZY",
        "outputId": "60355899-3fc1-44fd-801a-2b47bd256f0b",
        "colab": {
          "base_uri": "https://localhost:8080/"
        }
      },
      "execution_count": 10,
      "outputs": [
        {
          "output_type": "stream",
          "name": "stdout",
          "text": [
            "rm: cannot remove '*.nii.gz': No such file or directory\n"
          ]
        }
      ]
    }
  ]
}